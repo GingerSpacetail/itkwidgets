{
 "cells": [
  {
   "cell_type": "code",
   "execution_count": null,
   "metadata": {},
   "outputs": [],
   "source": [
    "# Install dependencies for this example\n",
    "# Note: This does not include itkwidgets, itself\n",
    "import sys\n",
    "!{sys.executable} -m pip install --upgrade itk-io itk-cuberille itk-totalvariation"
   ]
  },
  {
   "cell_type": "code",
   "execution_count": 1,
   "metadata": {},
   "outputs": [],
   "source": [
    "from urllib.request import urlretrieve\n",
    "import os\n",
    "\n",
    "import numpy as np\n",
    "import itk\n",
    "\n",
    "from itkwidgets import view\n",
    "import itkwidgets"
   ]
  },
  {
   "cell_type": "code",
   "execution_count": 2,
   "metadata": {},
   "outputs": [],
   "source": [
    "# Download data\n",
    "# Source: https://data.broadinstitute.org/bbbc/BBBC024/\n",
    "file_name = 'HL50_cell_line_c00_03_extraction.tif'\n",
    "if not os.path.exists(file_name):\n",
    "    url = 'https://data.kitware.com/api/v1/file/5b61f16c8d777f06857c1949/download'\n",
    "    urlretrieve(url, file_name)"
   ]
  },
  {
   "cell_type": "code",
   "execution_count": 6,
   "metadata": {},
   "outputs": [
    {
     "data": {
      "application/vnd.jupyter.widget-view+json": {
       "model_id": "9e8bc9bbc85942b69924e0c6c86bffa1",
       "version_major": 2,
       "version_minor": 0
      },
      "text/plain": [
       "Viewer(annotations=False, cmap='BrBG', geometries=[], gradient_opacity=0.22, point_sets=[], rendered_image=<it…"
      ]
     },
     "metadata": {},
     "output_type": "display_data"
    }
   ],
   "source": [
    "image = itk.imread(file_name, itk.F)\n",
    "\n",
    "view(image, cmap=itkwidgets.cm.BrBG, annotations=False, vmax=800, ui_collapsed=True)"
   ]
  },
  {
   "cell_type": "code",
   "execution_count": 7,
   "metadata": {},
   "outputs": [],
   "source": [
    "# Segment the cells\n",
    "smoothed = itk.prox_tv_image_filter(image, weights=50, maximum_number_of_iterations=3)\n",
    "\n",
    "LabelImageType = itk.Image[itk.UC, 3]\n",
    "\n",
    "threshold_filter = itk.MomentsThresholdImageFilter.New(smoothed)\n",
    "threshold_filter.Update()\n",
    "threshold = threshold_filter.GetThreshold()"
   ]
  },
  {
   "cell_type": "code",
   "execution_count": 8,
   "metadata": {},
   "outputs": [
    {
     "data": {
      "application/vnd.jupyter.widget-view+json": {
       "model_id": "2a91c87c3d2f43a5b0428dcbb4971279",
       "version_major": 2,
       "version_minor": 0
      },
      "text/plain": [
       "Viewer(geometries=[{'vtkClass': 'vtkPolyData', 'points': {'vtkClass': 'vtkPoints', 'numberOfComponents': 3, 'd…"
      ]
     },
     "metadata": {},
     "output_type": "display_data"
    }
   ],
   "source": [
    "interpolator = itk.BSplineInterpolateImageFunction.New(smoothed, spline_order=3)\n",
    "mesh = itk.cuberille_image_to_mesh_filter(smoothed,\n",
    "                                          interpolator=interpolator,\n",
    "                                          iso_surface_value=threshold,\n",
    "                                          project_vertices_to_iso_surface=True,\n",
    "                                          project_vertex_surface_distance_threshold=0.5)\n",
    "view(geometries=mesh)"
   ]
  }
 ],
 "metadata": {
  "kernelspec": {
   "display_name": "Python 3",
   "language": "python",
   "name": "python3"
  },
  "language_info": {
   "codemirror_mode": {
    "name": "ipython",
    "version": 3
   },
   "file_extension": ".py",
   "mimetype": "text/x-python",
   "name": "python",
   "nbconvert_exporter": "python",
   "pygments_lexer": "ipython3",
   "version": "3.7.6"
  }
 },
 "nbformat": 4,
 "nbformat_minor": 4
}
