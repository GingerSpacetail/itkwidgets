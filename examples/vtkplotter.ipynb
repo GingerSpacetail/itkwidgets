{
 "cells": [
  {
   "cell_type": "code",
   "execution_count": null,
   "metadata": {},
   "outputs": [],
   "source": [
    "# Install dependencies for this example\n",
    "# Note: This does not include itkwidgets, itself\n",
    "import sys\n",
    "!{sys.executable} -m pip install vtkplotter"
   ]
  },
  {
   "cell_type": "code",
   "execution_count": 1,
   "metadata": {},
   "outputs": [
    {
     "data": {
      "text/plain": [
       "(Actor)0x7f3a48ba4ca8"
      ]
     },
     "execution_count": 1,
     "metadata": {},
     "output_type": "execute_result"
    }
   ],
   "source": [
    "from vtkplotter import *\n",
    "\n",
    "embryo = load(datadir+'embryo.slc')\n",
    "sph = Sphere(r=50).pos(10,20,30)\n",
    "sph.pointColors(sph.getPoints()[:,2])"
   ]
  },
  {
   "cell_type": "code",
   "execution_count": 2,
   "metadata": {},
   "outputs": [
    {
     "name": "stdout",
     "output_type": "stream",
     "text": [
      "\u001b[34m_________________________________________________________________\u001b[0m\n",
      "\u001b[7m\u001b[1m\u001b[34mvtkVolume\u001b[0m \n",
      "\u001b[1m\u001b[34m         position: \u001b[0m\u001b[34m(0.0, 0.0, 0.0)\u001b[0m\n",
      "\u001b[1m\u001b[34m       dimensions: \u001b[0m\u001b[34m(256, 256, 256)\u001b[0m\n",
      "\u001b[1m\u001b[34m          spacing: \u001b[0m\u001b[34m(1.0, 1.0, 1.0)\u001b[0m\n",
      "\u001b[1m\u001b[34m   data dimension: \u001b[0m\u001b[34m3\u001b[0m\n",
      "\u001b[1m\u001b[34m      memory size: \u001b[0m\u001b[34m16 Mb\u001b[0m\n",
      "\u001b[1m\u001b[34m    scalar #bytes: \u001b[0m\u001b[34m1\u001b[0m\n",
      "\u001b[1m\u001b[34m           bounds: \u001b[0m\u001b[34mx=(0, 255)\u001b[0m\u001b[34m y=(0, 255)\u001b[0m\u001b[34m z=(0, 255)\u001b[0m\n",
      "\u001b[1m\u001b[34m     scalar range: \u001b[0m\u001b[34m(0.0, 248.0)\u001b[0m\n",
      "\u001b[34m(logscale) Histogram\t(entries=100000)\n",
      "                                      4.97\n",
      "0.00  | ▆▆▆▆▆▆▆▆▆▆▆▆▆▆▆▆▆▆▆▆▆▆▆▆▆▆▆▆▆▆\n",
      "21.62 | ▆▆▆▆▆▆▆▆▆▆▆▆▆▆▆▆▆▆▆\n",
      "43.25 | ▆▆▆▆▆▆▆▆▆▆▆▆▆▆▆▆▆▆▆\n",
      "64.88 | ▆▆▆▆▆▆▆▆▆▆▆▆▆▆▆▆▆▆▆\n",
      "86.50 | ▆▆▆▆▆▆▆▆▆▆▆▆▆▆▆▆▆\n",
      "108.12| ▆▆▆▆▆▆▆▆▆▆▆▆▆\n",
      "129.75| ▆▆▆▆▆▆▆▆▆\n",
      "151.38| ▆▆▆▆▆▆\n",
      "\u001b[0m\n"
     ]
    },
    {
     "data": {
      "text/plain": [
       "(Volume)0x7f3a48ba4a68"
      ]
     },
     "execution_count": 2,
     "metadata": {},
     "output_type": "execute_result"
    }
   ],
   "source": [
    "embryo.printInfo()"
   ]
  },
  {
   "cell_type": "code",
   "execution_count": 3,
   "metadata": {},
   "outputs": [
    {
     "data": {
      "application/vnd.jupyter.widget-view+json": {
       "model_id": "fe546fa0de2841d1b81e3ffc78e5488b",
       "version_major": 2,
       "version_minor": 0
      },
      "text/plain": [
       "Viewer(geometries=[{'vtkClass': 'vtkPolyData', 'points': {'vtkClass': 'vtkPoints', 'name': '_points', 'numberO…"
      ]
     },
     "metadata": {},
     "output_type": "display_data"
    }
   ],
   "source": [
    "from itkwidgets import view\n",
    "\n",
    "view(actors=[embryo, sph])"
   ]
  },
  {
   "cell_type": "code",
   "execution_count": null,
   "metadata": {},
   "outputs": [],
   "source": []
  }
 ],
 "metadata": {
  "kernelspec": {
   "display_name": "Python 3",
   "language": "python",
   "name": "python3"
  },
  "language_info": {
   "codemirror_mode": {
    "name": "ipython",
    "version": 3
   },
   "file_extension": ".py",
   "mimetype": "text/x-python",
   "name": "python",
   "nbconvert_exporter": "python",
   "pygments_lexer": "ipython3",
   "version": "3.6.8"
  }
 },
 "nbformat": 4,
 "nbformat_minor": 2
}
