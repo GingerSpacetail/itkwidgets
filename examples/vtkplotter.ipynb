{
 "cells": [
  {
   "cell_type": "code",
   "execution_count": null,
   "metadata": {},
   "outputs": [],
   "source": [
    "# Install dependencies for this example\n",
    "# Note: This does not include itkwidgets, itself\n",
    "import sys\n",
    "!{sys.executable} -m pip install vtkplotter"
   ]
  },
  {
   "cell_type": "code",
   "execution_count": 2,
   "metadata": {},
   "outputs": [
    {
     "data": {
      "text/plain": [
       "(Actor)0x7fc54adf5ac8"
      ]
     },
     "execution_count": 2,
     "metadata": {},
     "output_type": "execute_result"
    }
   ],
   "source": [
    "from vtkplotter import load, datadir, Sphere\n",
    "from itkwidgets import view\n",
    "\n",
    "embryo = load(datadir+'embryo.slc')\n",
    "\n",
    "sph = Sphere(r=50).pos(10,20,30)\n",
    "scals = sph.getPoints()[:,2] # scalars are z coords\n",
    "sph.pointColors(scals)"
   ]
  },
  {
   "cell_type": "code",
   "execution_count": 3,
   "metadata": {},
   "outputs": [
    {
     "name": "stdout",
     "output_type": "stream",
     "text": [
      "\u001b[34m_________________________________________________________________\u001b[0m\n",
      "\u001b[7m\u001b[1m\u001b[34mvtkVolume\u001b[0m \n",
      "\u001b[1m\u001b[34m         position: \u001b[0m\u001b[34m(0.0, 0.0, 0.0)\u001b[0m\n",
      "\u001b[1m\u001b[34m       dimensions: \u001b[0m\u001b[34m(256, 256, 256)\u001b[0m\n",
      "\u001b[1m\u001b[34m          spacing: \u001b[0m\u001b[34m(1.0, 1.0, 1.0)\u001b[0m\n",
      "\u001b[1m\u001b[34m   data dimension: \u001b[0m\u001b[34m3\u001b[0m\n",
      "\u001b[1m\u001b[34m      memory size: \u001b[0m\u001b[34m16 Mb\u001b[0m\n",
      "\u001b[1m\u001b[34m    scalar #bytes: \u001b[0m\u001b[34m1\u001b[0m\n",
      "\u001b[1m\u001b[34m           bounds: \u001b[0m\u001b[34mx=(0, 255)\u001b[0m\u001b[34m y=(0, 255)\u001b[0m\u001b[34m z=(0, 255)\u001b[0m\n",
      "\u001b[1m\u001b[34m     scalar range: \u001b[0m\u001b[34m(0.0, 197.0)\u001b[0m\n",
      "\u001b[34m(logscale) Histogram\t(entries=100000)\n",
      "                                      4.97\n",
      "0.00  | ▆▆▆▆▆▆▆▆▆▆▆▆▆▆▆▆▆▆▆▆▆▆▆▆▆▆▆▆▆▆\n",
      "20.00 | ▆▆▆▆▆▆▆▆▆▆▆▆▆▆▆▆▆▆▆\n",
      "40.00 | ▆▆▆▆▆▆▆▆▆▆▆▆▆▆▆▆▆▆▆\n",
      "60.00 | ▆▆▆▆▆▆▆▆▆▆▆▆▆▆▆▆▆▆\n",
      "80.00 | ▆▆▆▆▆▆▆▆▆▆▆▆▆▆▆▆▆▆\n",
      "100.00| ▆▆▆▆▆▆▆▆▆▆▆▆▆▆▆\n",
      "120.00| ▆▆▆▆▆▆▆▆▆▆▆\n",
      "140.00| ▆▆▆▆▆\n",
      "\u001b[0m\n"
     ]
    },
    {
     "data": {
      "text/plain": [
       "(Volume)0x7fc54adf58e8"
      ]
     },
     "execution_count": 3,
     "metadata": {},
     "output_type": "execute_result"
    }
   ],
   "source": [
    "embryo.printInfo()"
   ]
  },
  {
   "cell_type": "code",
   "execution_count": 4,
   "metadata": {},
   "outputs": [
    {
     "data": {
      "application/vnd.jupyter.widget-view+json": {
       "model_id": "6464d43906bd489bb2402f17bbccf279",
       "version_major": 2,
       "version_minor": 0
      },
      "text/plain": [
       "Viewer(geometries=[{'vtkClass': 'vtkPolyData', 'points': {'vtkClass': 'vtkPoints', 'name': '_points', 'numberO…"
      ]
     },
     "metadata": {},
     "output_type": "display_data"
    }
   ],
   "source": [
    "view(actors=[embryo, sph])"
   ]
  },
  {
   "cell_type": "code",
   "execution_count": null,
   "metadata": {},
   "outputs": [],
   "source": []
  }
 ],
 "metadata": {
  "kernelspec": {
   "display_name": "Python 3",
   "language": "python",
   "name": "python3"
  },
  "language_info": {
   "codemirror_mode": {
    "name": "ipython",
    "version": 3
   },
   "file_extension": ".py",
   "mimetype": "text/x-python",
   "name": "python",
   "nbconvert_exporter": "python",
   "pygments_lexer": "ipython3",
   "version": "3.6.8"
  }
 },
 "nbformat": 4,
 "nbformat_minor": 2
}
