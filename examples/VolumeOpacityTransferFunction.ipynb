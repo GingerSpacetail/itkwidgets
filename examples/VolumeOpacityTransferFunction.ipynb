{
 "cells": [
  {
   "cell_type": "code",
   "execution_count": 1,
   "metadata": {},
   "outputs": [
    {
     "name": "stdout",
     "output_type": "stream",
     "text": [
      "Requirement already satisfied: itk-io in /home/matt/bin/miniconda3/envs/itkwidgets/lib/python3.7/site-packages (5.1.0.post2)\r\n",
      "Requirement already satisfied: itk-core==5.1.0.post2 in /home/matt/bin/miniconda3/envs/itkwidgets/lib/python3.7/site-packages (from itk-io) (5.1.0.post2)\r\n"
     ]
    }
   ],
   "source": [
    "# Install dependencies for this example\n",
    "# Note: This does not include itkwidgets, itself\n",
    "import sys\n",
    "!{sys.executable} -m pip install itk-io"
   ]
  },
  {
   "cell_type": "code",
   "execution_count": 17,
   "metadata": {},
   "outputs": [],
   "source": [
    "from urllib.request import urlretrieve\n",
    "import os\n",
    "\n",
    "import itk\n",
    "\n",
    "from itkwidgets import view, cm"
   ]
  },
  {
   "cell_type": "code",
   "execution_count": 18,
   "metadata": {},
   "outputs": [],
   "source": [
    "# Download data\n",
    "# Source: https://imagej.net/First-instar_brain_(6.3MB)\n",
    "file_name = 'first-instar-brain.mha'\n",
    "if not os.path.exists(file_name):\n",
    "    url = 'https://data.kitware.com/api/v1/file/5e84e8a82660cbefba7d70ea/download'\n",
    "    urlretrieve(url, file_name)"
   ]
  },
  {
   "cell_type": "code",
   "execution_count": 24,
   "metadata": {},
   "outputs": [
    {
     "data": {
      "application/vnd.jupyter.widget-view+json": {
       "model_id": "2ace4ef6c68b426e8cccc48029ee4177",
       "version_major": 2,
       "version_minor": 0
      },
      "text/plain": [
       "Viewer(geometries=[], gradient_opacity=0.8, point_sets=[], rendered_image=<itk.itkImagePython.itkImageRGBUC3; …"
      ]
     },
     "metadata": {},
     "output_type": "display_data"
    }
   ],
   "source": [
    "image = itk.imread(file_name, itk.RGBPixel[itk.UC])\n",
    "\n",
    "viewer = view(image, rotate=True, gradient_opacity=0.8)\n",
    "viewer"
   ]
  },
  {
   "cell_type": "code",
   "execution_count": 25,
   "metadata": {},
   "outputs": [
    {
     "data": {
      "text/plain": [
       "[[{'position': 0.5, 'height': 1, 'width': 0.5, 'xBias': 0.51, 'yBias': 0.4}],\n",
       " [{'position': 0.5, 'height': 1, 'width': 0.5, 'xBias': 0.51, 'yBias': 0.4}],\n",
       " [{'position': 0.5, 'height': 1, 'width': 0.5, 'xBias': 0.51, 'yBias': 0.4}]]"
      ]
     },
     "execution_count": 25,
     "metadata": {},
     "output_type": "execute_result"
    }
   ],
   "source": [
    "# After changing the volume opacity transfer function opacity Gaussians in the user interface, get their values\n",
    "viewer.opacity_gaussians"
   ]
  },
  {
   "cell_type": "code",
   "execution_count": 26,
   "metadata": {},
   "outputs": [],
   "source": [
    "# Restore as needed\n",
    "gaussians_to_restore = [[{'position': 0.7277777777777779,\n",
    "   'height': 1,\n",
    "   'width': 0.4143187830687831,\n",
    "   'xBias': 0.8794444444444445,\n",
    "   'yBias': 0.7272727272727273}],\n",
    " [{'position': 0.5,\n",
    "   'height': 0.5181818181818182,\n",
    "   'width': 0.5,\n",
    "   'xBias': 0.1079532163742688,\n",
    "   'yBias': 0.07017543859649168}],\n",
    " [{'position': 0.5499999999999998,\n",
    "   'height': 0.8272727272727273,\n",
    "   'width': 0.3472222222222222,\n",
    "   'xBias': 0.2072222222222223,\n",
    "   'yBias': 0},\n",
    "  {'position': 0.15555555555555556,\n",
    "   'height': 0.19090909090909092,\n",
    "   'width': 0.16666666666666669,\n",
    "   'xBias': 0,\n",
    "   'yBias': 0}]]\n",
    "viewer.opacity_gaussians = gaussians_to_restore"
   ]
  },
  {
   "cell_type": "code",
   "execution_count": null,
   "metadata": {},
   "outputs": [],
   "source": []
  }
 ],
 "metadata": {
  "kernelspec": {
   "display_name": "Python 3",
   "language": "python",
   "name": "python3"
  },
  "language_info": {
   "codemirror_mode": {
    "name": "ipython",
    "version": 3
   },
   "file_extension": ".py",
   "mimetype": "text/x-python",
   "name": "python",
   "nbconvert_exporter": "python",
   "pygments_lexer": "ipython3",
   "version": "3.7.6"
  }
 },
 "nbformat": 4,
 "nbformat_minor": 4
}
