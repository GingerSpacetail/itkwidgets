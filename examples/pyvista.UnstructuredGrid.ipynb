{
 "cells": [
  {
   "cell_type": "code",
   "execution_count": 1,
   "metadata": {},
   "outputs": [
    {
     "name": "stdout",
     "output_type": "stream",
     "text": [
      "Defaulting to user installation because normal site-packages is not writeable\n",
      "Requirement already satisfied: pyvista in /opt/conda/lib/python3.7/site-packages (0.24.2)\n",
      "Requirement already satisfied: scooby>=0.5.1 in /opt/conda/lib/python3.7/site-packages (from pyvista) (0.5.4)\n",
      "Requirement already satisfied: appdirs in /opt/conda/lib/python3.7/site-packages (from pyvista) (1.4.3)\n",
      "Requirement already satisfied: vtk in /opt/conda/lib/python3.7/site-packages (from pyvista) (8.2.0)\n",
      "Requirement already satisfied: numpy in /opt/conda/lib/python3.7/site-packages (from pyvista) (1.18.4)\n",
      "Requirement already satisfied: imageio in /opt/conda/lib/python3.7/site-packages (from pyvista) (2.8.0)\n",
      "Requirement already satisfied: meshio<5.0,>=4.0.3 in /opt/conda/lib/python3.7/site-packages (from pyvista) (4.0.13)\n",
      "Requirement already satisfied: pillow in /opt/conda/lib/python3.7/site-packages (from imageio->pyvista) (5.3.0)\n",
      "Requirement already satisfied: importlib-metadata; python_version < \"3.8\" in /opt/conda/lib/python3.7/site-packages (from meshio<5.0,>=4.0.3->pyvista) (1.6.0)\n",
      "Requirement already satisfied: zipp>=0.5 in /opt/conda/lib/python3.7/site-packages (from importlib-metadata; python_version < \"3.8\"->meshio<5.0,>=4.0.3->pyvista) (3.1.0)\n"
     ]
    }
   ],
   "source": [
    "# Note: This example currently does not work in MyBinder.\n",
    "\n",
    "# Install dependencies for this example\n",
    "# Note: This does not include itkwidgets, itself\n",
    "import sys\n",
    "!{sys.executable} -m pip install pyvista"
   ]
  },
  {
   "cell_type": "code",
   "execution_count": 2,
   "metadata": {},
   "outputs": [],
   "source": [
    "import pyvista\n",
    "from pyvista import examples\n",
    "\n",
    "from itkwidgets import view"
   ]
  },
  {
   "cell_type": "code",
   "execution_count": 3,
   "metadata": {},
   "outputs": [
    {
     "data": {
      "text/html": [
       "<table><tr><th>Header</th><th>Data Arrays</th></tr><tr><td>\n",
       "<table>\n",
       "<tr><th>UnstructuredGrid</th><th>Information</th></tr>\n",
       "<tr><td>N Cells</td><td>40</td></tr>\n",
       "<tr><td>N Points</td><td>99</td></tr>\n",
       "<tr><td>X Bounds</td><td>0.000e+00, 1.000e+00</td></tr>\n",
       "<tr><td>Y Bounds</td><td>0.000e+00, 1.000e+00</td></tr>\n",
       "<tr><td>Z Bounds</td><td>0.000e+00, 5.000e+00</td></tr>\n",
       "<tr><td>N Arrays</td><td>3</td></tr>\n",
       "</table>\n",
       "\n",
       "</td><td>\n",
       "<table>\n",
       "<tr><th>Name</th><th>Field</th><th>Type</th><th>N Comp</th><th>Min</th><th>Max</th></tr>\n",
       "<tr><td><b>sample_point_scalars</b></td><td>Points</td><td>int64</td><td>1</td><td>1.000e+00</td><td>3.020e+02</td></tr>\n",
       "<tr><td>VTKorigID</td><td>Points</td><td>int64</td><td>1</td><td>0.000e+00</td><td>9.800e+01</td></tr>\n",
       "<tr><td>sample_cell_scalars</td><td>Cells</td><td>int32</td><td>1</td><td>1.000e+00</td><td>4.000e+01</td></tr>\n",
       "</table>\n",
       "\n",
       "</td></tr> </table>"
      ],
      "text/plain": [
       "UnstructuredGrid (0x7f8823a14830)\n",
       "  N Cells:\t40\n",
       "  N Points:\t99\n",
       "  X Bounds:\t0.000e+00, 1.000e+00\n",
       "  Y Bounds:\t0.000e+00, 1.000e+00\n",
       "  Z Bounds:\t0.000e+00, 5.000e+00\n",
       "  N Arrays:\t3"
      ]
     },
     "execution_count": 3,
     "metadata": {},
     "output_type": "execute_result"
    }
   ],
   "source": [
    "hexbeam = examples.load_hexbeam()\n",
    "hexbeam"
   ]
  },
  {
   "cell_type": "code",
   "execution_count": 7,
   "metadata": {},
   "outputs": [
    {
     "ename": "TypeError",
     "evalue": "add_mesh() got an unexpected keyword argument 'cmap'",
     "output_type": "error",
     "traceback": [
      "\u001b[0;31m-------------------------------------------------------------------------\u001b[0m",
      "\u001b[0;31mTypeError\u001b[0m                               Traceback (most recent call last)",
      "\u001b[0;32m<ipython-input-7-038d087c0cc3>\u001b[0m in \u001b[0;36m<module>\u001b[0;34m\u001b[0m\n\u001b[1;32m      1\u001b[0m \u001b[0mpl\u001b[0m \u001b[0;34m=\u001b[0m \u001b[0mpyvista\u001b[0m\u001b[0;34m.\u001b[0m\u001b[0mPlotterITK\u001b[0m\u001b[0;34m(\u001b[0m\u001b[0;34m)\u001b[0m\u001b[0;34m\u001b[0m\u001b[0;34m\u001b[0m\u001b[0m\n\u001b[0;32m----> 2\u001b[0;31m \u001b[0mpl\u001b[0m\u001b[0;34m.\u001b[0m\u001b[0madd_mesh\u001b[0m\u001b[0;34m(\u001b[0m\u001b[0mhexbeam\u001b[0m\u001b[0;34m,\u001b[0m \u001b[0mcmap\u001b[0m\u001b[0;34m=\u001b[0m\u001b[0;34m'jet'\u001b[0m\u001b[0;34m)\u001b[0m\u001b[0;34m\u001b[0m\u001b[0;34m\u001b[0m\u001b[0m\n\u001b[0m\u001b[1;32m      3\u001b[0m \u001b[0mpl\u001b[0m\u001b[0;34m.\u001b[0m\u001b[0mshow\u001b[0m\u001b[0;34m(\u001b[0m\u001b[0;34m)\u001b[0m\u001b[0;34m\u001b[0m\u001b[0;34m\u001b[0m\u001b[0m\n",
      "\u001b[0;31mTypeError\u001b[0m: add_mesh() got an unexpected keyword argument 'cmap'"
     ]
    }
   ],
   "source": [
    "pl = pyvista.PlotterITK()\n",
    "pl.add_mesh(hexbeam )\n",
    "pl.show()"
   ]
  }
 ],
 "metadata": {
  "kernelspec": {
   "display_name": "Python 3",
   "language": "python",
   "name": "python3"
  },
  "language_info": {
   "codemirror_mode": {
    "name": "ipython",
    "version": 3
   },
   "file_extension": ".py",
   "mimetype": "text/x-python",
   "name": "python",
   "nbconvert_exporter": "python",
   "pygments_lexer": "ipython3",
   "version": "3.7.7"
  }
 },
 "nbformat": 4,
 "nbformat_minor": 4
}
