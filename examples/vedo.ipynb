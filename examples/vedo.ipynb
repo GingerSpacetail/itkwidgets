{
 "cells": [
  {
   "cell_type": "code",
   "execution_count": 2,
   "metadata": {},
   "outputs": [
    {
     "name": "stdout",
     "output_type": "stream",
     "text": [
      "Collecting vedo\n",
      "  Downloading vedo-2021.0.3.tar.gz (9.3 MB)\n",
      "\u001b[K     |████████████████████████████████| 9.3 MB 7.0 MB/s eta 0:00:01\n",
      "\u001b[?25hRequirement already satisfied: vtk in /home/matt/bin/miniconda/envs/itkwidgets/lib/python3.8/site-packages (from vedo) (9.0.1)\n",
      "Requirement already satisfied: numpy in /home/matt/bin/miniconda/envs/itkwidgets/lib/python3.8/site-packages (from vedo) (1.20.2)\n",
      "Building wheels for collected packages: vedo\n",
      "  Building wheel for vedo (setup.py) ... \u001b[?25ldone\n",
      "\u001b[?25h  Created wheel for vedo: filename=vedo-2021.0.3-py3-none-any.whl size=9384218 sha256=a1d8ecc77dc48f4c4584c09d436170d04fd291ce4f864bb60ed6a9514b6ace30\n",
      "  Stored in directory: /home/matt/.cache/pip/wheels/9c/6f/7c/c8f69d87d6f20bfd65e4af01498ac78836e12308ee46cbad58\n",
      "Successfully built vedo\n",
      "Installing collected packages: vedo\n",
      "Successfully installed vedo-2021.0.3\n"
     ]
    }
   ],
   "source": [
    "# Note: This example currently does not work in MyBinder.\n",
    "\n",
    "# Install dependencies for this example\n",
    "# Note: This does not include itkwidgets, itself\n",
    "import sys\n",
    "!{sys.executable} -m pip install -U vedo"
   ]
  },
  {
   "cell_type": "code",
   "execution_count": 3,
   "metadata": {},
   "outputs": [
    {
     "name": "stdout",
     "output_type": "stream",
     "text": [
      "embedWindow(verbose=True): could not load ipyvtk_simple try:\n",
      "> pip install -U git+https://github.com/Kitware/ipyvtk-simple.git\n"
     ]
    },
    {
     "data": {
      "text/plain": [
       "(Sphere)0x7f185a66fc40"
      ]
     },
     "execution_count": 3,
     "metadata": {},
     "output_type": "execute_result"
    }
   ],
   "source": [
    "from vedo import load, datadir, Sphere\n",
    "from itkwidgets import view\n",
    "\n",
    "embryo = load(datadir+'embryo.slc')\n",
    "\n",
    "sph = Sphere(r=50).pos(10,20,30)\n",
    "scals = sph.points()[:,2] # scalars are z coords\n",
    "sph.pointColors(scals)"
   ]
  },
  {
   "cell_type": "code",
   "execution_count": 4,
   "metadata": {},
   "outputs": [
    {
     "name": "stdout",
     "output_type": "stream",
     "text": [
      "\u001b[34;1m_________________________________________________________________\u001b[0m\n",
      "\u001b[7m\u001b[1m\u001b[34;1mVolume\u001b[0m\n",
      "\u001b[1m\u001b[34;1m         position: \u001b[0m\u001b[34;1m(0.0, 0.0, 0.0)\u001b[0m\n",
      "\u001b[1m\u001b[34;1m       dimensions: \u001b[0m\u001b[34;1m(256, 256, 256)\u001b[0m\n",
      "\u001b[1m\u001b[34;1m          spacing: \u001b[0m\u001b[34;1m(1.0, 1.0, 1.0)\u001b[0m\n",
      "\u001b[1m\u001b[34;1m   data dimension: \u001b[0m\u001b[34;1m3\u001b[0m\n",
      "\u001b[1m\u001b[34;1m      memory size: \u001b[0m\u001b[34;1m16 MB\u001b[0m\n",
      "\u001b[1m\u001b[34;1m    scalar #bytes: \u001b[0m\u001b[34;1m1\u001b[0m\n",
      "\u001b[1m\u001b[34;1m           bounds: \u001b[0m\u001b[34;1mx=(0, 255)\u001b[0m\u001b[34;1m y=(0, 255)\u001b[0m\u001b[34;1m z=(0, 255)\u001b[0m\n",
      "\u001b[1m\u001b[34;1m     scalar range: \u001b[0m\u001b[34;1m(0.0, 197.0)\u001b[0m\n",
      "\u001b[34;1m(logscale) Histogram\t(entries=100000)\n",
      "                                      4.97\n",
      "0.00  | ▆▆▆▆▆▆▆▆▆▆▆▆▆▆▆▆▆▆▆▆▆▆▆▆▆▆▆▆▆▆\n",
      "23.12 | ▆▆▆▆▆▆▆▆▆▆▆▆▆▆▆▆▆▆▆\n",
      "46.25 | ▆▆▆▆▆▆▆▆▆▆▆▆▆▆▆▆▆▆▆\n",
      "69.38 | ▆▆▆▆▆▆▆▆▆▆▆▆▆▆▆▆▆▆\n",
      "92.50 | ▆▆▆▆▆▆▆▆▆▆▆▆▆▆▆▆\n",
      "115.62| ▆▆▆▆▆▆▆▆▆▆▆▆\n",
      "138.75| ▆▆▆▆▆▆▆\n",
      "161.88| ▆▆\n",
      "\u001b[0m\n"
     ]
    },
    {
     "data": {
      "text/plain": [
       "(Volume)0x7f185a66f9a0"
      ]
     },
     "execution_count": 4,
     "metadata": {},
     "output_type": "execute_result"
    }
   ],
   "source": [
    "embryo.printInfo()"
   ]
  },
  {
   "cell_type": "code",
   "execution_count": 5,
   "metadata": {},
   "outputs": [
    {
     "data": {
      "application/vnd.jupyter.widget-view+json": {
       "model_id": "a29de347ee554ab5a2dbd5225f5a12d4",
       "version_major": 2,
       "version_minor": 0
      },
      "text/plain": [
       "Viewer(geometries=[{'vtkClass': 'vtkPolyData', 'points': {'vtkClass': 'vtkPoints', 'name': '_points', 'numberO…"
      ]
     },
     "metadata": {},
     "output_type": "display_data"
    }
   ],
   "source": [
    "view(actors=[embryo, sph])"
   ]
  }
 ],
 "metadata": {
  "kernelspec": {
   "display_name": "Python 3",
   "language": "python",
   "name": "python3"
  },
  "language_info": {
   "codemirror_mode": {
    "name": "ipython",
    "version": 3
   },
   "file_extension": ".py",
   "mimetype": "text/x-python",
   "name": "python",
   "nbconvert_exporter": "python",
   "pygments_lexer": "ipython3",
   "version": "3.8.8"
  }
 },
 "nbformat": 4,
 "nbformat_minor": 4
}
