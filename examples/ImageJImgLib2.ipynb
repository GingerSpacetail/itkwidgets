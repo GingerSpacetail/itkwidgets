{
 "cells": [
  {
   "cell_type": "markdown",
   "metadata": {},
   "source": [
    "# ImageJ, Python, and itkwidgets\n",
    "\n",
    "This example demonstrates how to use ImageJ from CPython and how it can be used with itkwidgets.\n",
    "\n",
    "To run this example, use the [conda](https://docs.conda.io/en/latest/) cross-platform package manager and install the [pyimagej package](https://github.com/imagej/pyimagej) from [conda-forge](https://conda-forge.org/).\n",
    "\n",
    "```\n",
    "conda install -c conda-forge pyimagej\n",
    "```"
   ]
  },
  {
   "cell_type": "code",
   "execution_count": 1,
   "metadata": {},
   "outputs": [
    {
     "name": "stdout",
     "output_type": "stream",
     "text": [
      "Collecting package metadata (current_repodata.json): done\n",
      "Solving environment: done\n",
      "\n",
      "## Package Plan ##\n",
      "\n",
      "  environment location: /home/matt/bin/miniconda3/envs/pyimagej\n",
      "\n",
      "  added / updated specs:\n",
      "    - pyimagej\n",
      "\n",
      "\n",
      "The following packages will be downloaded:\n",
      "\n",
      "    package                    |            build\n",
      "    ---------------------------|-----------------\n",
      "    pyimagej-0.5.0             |           py37_0          17 KB  conda-forge\n",
      "    ------------------------------------------------------------\n",
      "                                           Total:          17 KB\n",
      "\n",
      "The following packages will be UPDATED:\n",
      "\n",
      "  pyimagej                                  0.4.0-py37_1001 --> 0.5.0-py37_0\n",
      "\n",
      "\n",
      "\n",
      "Downloading and Extracting Packages\n",
      "pyimagej-0.5.0       | 17 KB     | ##################################### | 100% \n",
      "Preparing transaction: done\n",
      "Verifying transaction: done\n",
      "Executing transaction: done\n"
     ]
    }
   ],
   "source": [
    "# Install dependencies for this example\n",
    "#\n",
    "# Here we assume itkwidgets has already been installed\n",
    "import sys\n",
    "!conda install --yes --prefix {sys.prefix} -c conda-forge pyimagej itkwidgets"
   ]
  },
  {
   "cell_type": "code",
   "execution_count": 2,
   "metadata": {},
   "outputs": [],
   "source": [
    "try:\n",
    "    from urllib.request import urlretrieve\n",
    "except ImportError:\n",
    "    from urllib import urlretrieve\n",
    "import os\n",
    "\n",
    "import itk\n",
    "import imagej\n",
    "import numpy as np\n",
    "\n",
    "from itkwidgets import view"
   ]
  },
  {
   "cell_type": "code",
   "execution_count": 3,
   "metadata": {
    "scrolled": true
   },
   "outputs": [
    {
     "name": "stdout",
     "output_type": "stream",
     "text": [
      "2.0.0-rc-71\n"
     ]
    }
   ],
   "source": [
    "# Initialize imagej\n",
    "ij = imagej.init()\n",
    "print(ij.getVersion())"
   ]
  },
  {
   "cell_type": "code",
   "execution_count": 4,
   "metadata": {},
   "outputs": [],
   "source": [
    "# Download data\n",
    "file_name = 'General_EduRes_Heart_BloodVessels_0.jpg'\n",
    "if not os.path.exists(file_name):\n",
    "    url = 'https://data.kitware.com/api/v1/file/5afe74408d777f15ebe1d701/download'\n",
    "    urlretrieve(url, file_name)"
   ]
  },
  {
   "cell_type": "code",
   "execution_count": 13,
   "metadata": {},
   "outputs": [
    {
     "data": {
      "application/vnd.jupyter.widget-view+json": {
       "model_id": "b7696c8361f644f89251ba4b830e30b4",
       "version_major": 2,
       "version_minor": 0
      },
      "text/plain": [
       "Viewer(geometries=[], gradient_opacity=0.22, point_sets=[], rendered_image=<itkImagePython.itkImageF2; proxy o…"
      ]
     },
     "metadata": {},
     "output_type": "display_data"
    }
   ],
   "source": [
    "image = itk.imread(file_name, itk.ctype('float'))\n",
    "view(image)"
   ]
  },
  {
   "cell_type": "code",
   "execution_count": 15,
   "metadata": {},
   "outputs": [
    {
     "name": "stdout",
     "output_type": "stream",
     "text": [
      "<class 'itkImagePython.itkImageF2'>\n",
      "<class 'numpy.ndarray'>\n",
      "<class 'jnius.reflect.net/imglib2/python/ReferenceGuardingRandomAccessibleInterval'>\n"
     ]
    }
   ],
   "source": [
    "print(type(image))\n",
    "\n",
    "image_arr = itk.array_view_from_image(image)\n",
    "print(type(image_arr))\n",
    "\n",
    "image_java = ij.py.to_java(image_arr)\n",
    "print(type(image_java))"
   ]
  },
  {
   "cell_type": "code",
   "execution_count": 9,
   "metadata": {
    "scrolled": true
   },
   "outputs": [
    {
     "data": {
      "text/plain": [
       "<net.imglib2.RandomAccessibleInterval at 0x7f2fe4253f10 jclass=net/imglib2/RandomAccessibleInterval jself=<LocalRef obj=0x560ec52091f0 at 0x7f2fe4828a10>>"
      ]
     },
     "execution_count": 9,
     "metadata": {},
     "output_type": "execute_result"
    }
   ],
   "source": [
    "# Invoke the Frangi vesselness op.\n",
    "vessels = np.zeros(image_arr.shape, dtype=np.float32)\n",
    "ij.op().filter().frangiVesselness(ij.py.to_java(vessels),\n",
    "                                  image_java,\n",
    "                                  [1, 1],\n",
    "                                  20)"
   ]
  },
  {
   "cell_type": "code",
   "execution_count": 10,
   "metadata": {},
   "outputs": [
    {
     "data": {
      "application/vnd.jupyter.widget-view+json": {
       "model_id": "d6b3e88b0e11447da7c0c48c3d65f0f4",
       "version_major": 2,
       "version_minor": 0
      },
      "text/plain": [
       "Viewer(geometries=[], gradient_opacity=0.22, point_sets=[], rendered_image=<itkImagePython.itkImageF2; proxy o…"
      ]
     },
     "metadata": {},
     "output_type": "display_data"
    }
   ],
   "source": [
    "view(vessels)"
   ]
  },
  {
   "cell_type": "code",
   "execution_count": null,
   "metadata": {},
   "outputs": [],
   "source": []
  }
 ],
 "metadata": {
  "kernelspec": {
   "display_name": "Python 3",
   "language": "python",
   "name": "python3"
  },
  "language_info": {
   "codemirror_mode": {
    "name": "ipython",
    "version": 3
   },
   "file_extension": ".py",
   "mimetype": "text/x-python",
   "name": "python",
   "nbconvert_exporter": "python",
   "pygments_lexer": "ipython3",
   "version": "3.7.3"
  }
 },
 "nbformat": 4,
 "nbformat_minor": 2
}
