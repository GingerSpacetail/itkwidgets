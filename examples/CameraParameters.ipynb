{
 "cells": [
  {
   "cell_type": "code",
   "execution_count": 1,
   "metadata": {},
   "outputs": [
    {
     "name": "stdout",
     "output_type": "stream",
     "text": [
      "Requirement already satisfied: itk-io in /home/matt/bin/miniconda3/envs/itkwidgets/lib/python3.7/site-packages (5.1.0.post3)\r\n",
      "Requirement already satisfied: vtk in /home/matt/bin/miniconda3/envs/itkwidgets/lib/python3.7/site-packages (8.1.2)\r\n",
      "Requirement already satisfied: itk-core==5.1.0.post3 in /home/matt/bin/miniconda3/envs/itkwidgets/lib/python3.7/site-packages (from itk-io) (5.1.0.post3)\r\n"
     ]
    }
   ],
   "source": [
    "# Install dependencies for this example\n",
    "# Note: This does not include itkwidgets, itself\n",
    "import sys\n",
    "!{sys.executable} -m pip install itk-io vtk"
   ]
  },
  {
   "cell_type": "code",
   "execution_count": 2,
   "metadata": {},
   "outputs": [],
   "source": [
    "from urllib.request import urlretrieve\n",
    "import os\n",
    "\n",
    "import itk\n",
    "import numpy as np\n",
    "import vtk\n",
    "\n",
    "from itkwidgets import view, cm"
   ]
  },
  {
   "cell_type": "code",
   "execution_count": 3,
   "metadata": {},
   "outputs": [],
   "source": [
    "# Download data\n",
    "file_name = 'lobster.nrrd'\n",
    "if not os.path.exists(file_name):\n",
    "    url = 'https://data.kitware.com/api/v1/file/5b8440a78d777f43cc8d54e1/download'\n",
    "    urlretrieve(url, file_name)"
   ]
  },
  {
   "cell_type": "code",
   "execution_count": 4,
   "metadata": {},
   "outputs": [
    {
     "data": {
      "application/vnd.jupyter.widget-view+json": {
       "model_id": "6e4bf6b5d5524c27ab58325155a4b859",
       "version_major": 2,
       "version_minor": 0
      },
      "text/plain": [
       "Viewer(cmap=['BkRd'], geometries=[], gradient_opacity=0.5, point_sets=[], rendered_image=<itk.itkImagePython.i…"
      ]
     },
     "metadata": {},
     "output_type": "display_data"
    }
   ],
   "source": [
    "image = itk.imread(file_name)\n",
    "viewer = view(image, vmax=150, gradient_opacity=0.5, cmap=cm.BkRd, ui_collapsed=True)\n",
    "viewer"
   ]
  },
  {
   "cell_type": "markdown",
   "metadata": {},
   "source": [
    "The camera parameters are defined as:\n",
    "\n",
    "```\n",
    "[[position_x,    position_y,    position_z],\n",
    " [focal_point_x, focal_point_y, focal_point_z],\n",
    " [view_up_x,     view_up_y,     view_up_z]]\n",
    "```"
   ]
  },
  {
   "cell_type": "code",
   "execution_count": 5,
   "metadata": {},
   "outputs": [],
   "source": [
    "# To store / restore camera parameters:\n",
    "camera = np.array([[ 3.6606824e+02,  1.4895028e+00,  1.0029479e+02],\n",
    "       [ 1.5009012e+02,  1.2883676e+02, -1.1309737e+01],\n",
    "       [-4.5256451e-01,  1.3861613e-02,  8.9162391e-01]], dtype=np.float32)\n",
    "\n",
    "viewer.camera = camera"
   ]
  },
  {
   "cell_type": "code",
   "execution_count": 6,
   "metadata": {},
   "outputs": [
    {
     "data": {
      "text/plain": [
       "array([[ 3.6606824e+02,  1.4895028e+00,  1.0029479e+02],\n",
       "       [ 1.5009012e+02,  1.2883676e+02, -1.1309737e+01],\n",
       "       [-4.5256451e-01,  1.3861613e-02,  8.9162391e-01]], dtype=float32)"
      ]
     },
     "execution_count": 6,
     "metadata": {},
     "output_type": "execute_result"
    }
   ],
   "source": [
    "viewer.camera"
   ]
  },
  {
   "cell_type": "code",
   "execution_count": null,
   "metadata": {},
   "outputs": [],
   "source": []
  }
 ],
 "metadata": {
  "kernelspec": {
   "display_name": "Python 3",
   "language": "python",
   "name": "python3"
  },
  "language_info": {
   "codemirror_mode": {
    "name": "ipython",
    "version": 3
   },
   "file_extension": ".py",
   "mimetype": "text/x-python",
   "name": "python",
   "nbconvert_exporter": "python",
   "pygments_lexer": "ipython3",
   "version": "3.7.6"
  }
 },
 "nbformat": 4,
 "nbformat_minor": 4
}
