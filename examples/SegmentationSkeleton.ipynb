{
 "cells": [
  {
   "cell_type": "code",
   "execution_count": null,
   "metadata": {},
   "outputs": [],
   "source": [
    "# Install dependencies for this example\n",
    "# Note: This does not include itkwidgets, itself\n",
    "import sys\n",
    "!{sys.executable} -m pip install itk-io scikit-image skan pandas numba"
   ]
  },
  {
   "cell_type": "code",
   "execution_count": 2,
   "metadata": {},
   "outputs": [],
   "source": [
    "from urllib.request import urlretrieve\n",
    "import os\n",
    "from skimage import data\n",
    "\n",
    "import itk\n",
    "import skan\n",
    "from skimage.util import img_as_float64, invert\n",
    "from skimage.morphology import skeletonize\n",
    "import numpy as np\n",
    "\n",
    "from itkwidgets import view, cm"
   ]
  },
  {
   "cell_type": "code",
   "execution_count": 3,
   "metadata": {},
   "outputs": [
    {
     "data": {
      "application/vnd.jupyter.widget-view+json": {
       "model_id": "80e1cd86fdb24327874163e5bca1148a",
       "version_major": 2,
       "version_minor": 0
      },
      "text/plain": [
       "Viewer(annotations=False, cmap='gray_Matlab', geometries=[], gradient_opacity=0.22, interpolation=False, point…"
      ]
     },
     "metadata": {},
     "output_type": "display_data"
    }
   ],
   "source": [
    "image = invert(data.horse())\n",
    "view(image.astype(np.uint8),\n",
    "     ui_collapsed=True, annotations=False,\n",
    "     interpolation=False, cmap=cm.gray)"
   ]
  },
  {
   "cell_type": "code",
   "execution_count": 4,
   "metadata": {},
   "outputs": [],
   "source": [
    "skeleton = skeletonize(image)\n",
    "skeleton_csr = skan.csr.Skeleton(skeleton)"
   ]
  },
  {
   "cell_type": "code",
   "execution_count": 5,
   "metadata": {},
   "outputs": [
    {
     "data": {
      "application/vnd.jupyter.widget-view+json": {
       "model_id": "e7c2699edd604adbafd510a684292650",
       "version_major": 2,
       "version_minor": 0
      },
      "text/plain": [
       "Viewer(annotations=False, cmap='gray_Matlab', geometries=[{'vtkClass': 'vtkPolyData', 'points': {'vtkClass': '…"
      ]
     },
     "metadata": {},
     "output_type": "display_data"
    }
   ],
   "source": [
    "view(image.astype(np.uint8), geometries=skeleton_csr,\n",
    "     ui_collapsed=True, annotations=False,\n",
    "     interpolate=False, cmap=cm.gray)"
   ]
  },
  {
   "cell_type": "code",
   "execution_count": 6,
   "metadata": {},
   "outputs": [],
   "source": [
    "# Download 3D data\n",
    "file_name = 'input.tiff'\n",
    "if not os.path.exists(file_name):\n",
    "    url = 'https://data.kitware.com/api/v1/item/5e1ea82eaf2e2eed35033055/download'\n",
    "    urlretrieve(url, file_name)"
   ]
  },
  {
   "cell_type": "code",
   "execution_count": 7,
   "metadata": {},
   "outputs": [
    {
     "data": {
      "application/vnd.jupyter.widget-view+json": {
       "model_id": "fda4764e751a4220b32c2dc1733a3aed",
       "version_major": 2,
       "version_minor": 0
      },
      "text/plain": [
       "Viewer(geometries=[], gradient_opacity=0.22, point_sets=[], rendered_image=<itkImagePython.itkImageF3; proxy o…"
      ]
     },
     "metadata": {},
     "output_type": "display_data"
    }
   ],
   "source": [
    "image = itk.imread(file_name, itk.F)\n",
    "view(image, ui_collapsed=True, shadow=False)"
   ]
  },
  {
   "cell_type": "code",
   "execution_count": 8,
   "metadata": {},
   "outputs": [],
   "source": [
    "# Normalize for skimage\n",
    "image_arr = itk.array_from_image(image)\n",
    "image_arr = img_as_float64(image_arr)\n",
    "image_arr = image_arr / image_arr.max()"
   ]
  },
  {
   "cell_type": "code",
   "execution_count": 17,
   "metadata": {},
   "outputs": [],
   "source": [
    "skeleton = skeletonize(image_arr)\n",
    "skeleton_csr = skan.csr.Skeleton(skeleton, spacing=list(itk.spacing(image))[::-1])"
   ]
  },
  {
   "cell_type": "code",
   "execution_count": 18,
   "metadata": {},
   "outputs": [
    {
     "data": {
      "application/vnd.jupyter.widget-view+json": {
       "model_id": "72e4c8ab26e8498091b25d48286ed25d",
       "version_major": 2,
       "version_minor": 0
      },
      "text/plain": [
       "Viewer(annotations=False, camera=array([[ 4.6124218e+01,  9.3229523e+01,  2.7596173e+02],\n",
       "       [ 4.9500000e+…"
      ]
     },
     "metadata": {},
     "output_type": "display_data"
    }
   ],
   "source": [
    "view(image_arr, geometries=skeleton_csr,\n",
    "     ui_collapsed=True, shadow=False, annotations=False,\n",
    "     camera=[[ 4.6124218e+01,  9.3229523e+01,  2.7596173e+02],\n",
    "       [ 4.9500000e+01,  4.9500000e+01,  7.5000000e+00],\n",
    "       [-6.0824049e-01,  7.8217846e-01, -1.3505679e-01]])"
   ]
  }
 ],
 "metadata": {
  "kernelspec": {
   "display_name": "Python 3",
   "language": "python",
   "name": "python3"
  },
  "language_info": {
   "codemirror_mode": {
    "name": "ipython",
    "version": 3
   },
   "file_extension": ".py",
   "mimetype": "text/x-python",
   "name": "python",
   "nbconvert_exporter": "python",
   "pygments_lexer": "ipython3",
   "version": "3.7.6"
  },
  "toc": {
   "base_numbering": 1,
   "nav_menu": {},
   "number_sections": false,
   "sideBar": false,
   "skip_h1_title": false,
   "title_cell": "Table of Contents",
   "title_sidebar": "Contents",
   "toc_cell": false,
   "toc_position": {},
   "toc_section_display": false,
   "toc_window_display": false
  }
 },
 "nbformat": 4,
 "nbformat_minor": 4
}
