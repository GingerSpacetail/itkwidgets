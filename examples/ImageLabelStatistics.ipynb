{
 "cells": [
  {
   "cell_type": "code",
   "execution_count": null,
   "metadata": {},
   "outputs": [],
   "source": [
    "# Install dependencies for this example\n",
    "# Note: This does not include itkwidgets, itself\n",
    "import sys\n",
    "!{sys.executable} -m pip install -U itk plotly"
   ]
  },
  {
   "cell_type": "code",
   "execution_count": 1,
   "metadata": {},
   "outputs": [],
   "source": [
    "from urllib.request import urlretrieve\n",
    "import os\n",
    "\n",
    "import itk\n",
    "import numpy as np\n",
    "\n",
    "from itkwidgets import label_statistics, view\n",
    "import itkwidgets"
   ]
  },
  {
   "cell_type": "code",
   "execution_count": 2,
   "metadata": {},
   "outputs": [],
   "source": [
    "# Download data\n",
    "# Source: Simulated nuclei of HL60 cells stained with Hoescht\n",
    "# Dr. V. Ulman and Dr. D. Svoboda. Centre for Biomedical Image Analysis (CBIA),\n",
    "# http://doi.org/10.1109/TMI.2016.2606545\n",
    "file_name = 'Fluo-N3DH-SIM+-01-t148.nrrd'\n",
    "if not os.path.exists(file_name):\n",
    "    url = 'https://data.kitware.com/api/v1/file/5f20d3a79014a6d84e462462/download'\n",
    "    urlretrieve(url, file_name)\n",
    "label_file_name = 'Fluo-N3DH-SIM+-01_GT-SEG-man_seg148.nrrd'\n",
    "if not os.path.exists(label_file_name):\n",
    "    url = 'https://data.kitware.com/api/v1/file/5f20d3a69014a6d84e462457/download'\n",
    "    urlretrieve(url, label_file_name)"
   ]
  },
  {
   "cell_type": "code",
   "execution_count": 3,
   "metadata": {},
   "outputs": [],
   "source": [
    "image = itk.imread(file_name)\n",
    "binary_labels = itk.imread(label_file_name)\n",
    "\n",
    "label_image = itk.connected_component_image_filter(binary_labels)"
   ]
  },
  {
   "cell_type": "code",
   "execution_count": 4,
   "metadata": {},
   "outputs": [],
   "source": [
    "# A few viewer settings that work nicely with this dataset.\n",
    "opacity_gaussians = [[{'position': 0.17082204155374883,\n",
    "   'height': 1,\n",
    "   'width': 0.17082204155374883,\n",
    "   'xBias': 0.06522802840370252,\n",
    "   'yBias': 0.40466784651165977}]]\n",
    "camera = np.array([[ 6.6004913e+01,  4.5845730e+01,  1.1898222e+02],\n",
    "       [ 4.0518013e+01,  2.3266140e+01,  1.5647539e+01],\n",
    "       [-2.4525525e-02,  9.7789967e-01, -2.0763110e-01]], dtype=np.float32)"
   ]
  },
  {
   "cell_type": "code",
   "execution_count": 5,
   "metadata": {},
   "outputs": [
    {
     "data": {
      "application/vnd.jupyter.widget-view+json": {
       "model_id": "3c1d54940fec4eb08e648bbef430b721",
       "version_major": 2,
       "version_minor": 0
      },
      "text/plain": [
       "AppLayout(children=(Viewer(camera=array([[ 6.6004913e+01,  4.5845730e+01,  1.1898222e+02],\n",
       "       [ 4.0518013e…"
      ]
     },
     "metadata": {},
     "output_type": "display_data"
    }
   ],
   "source": [
    "label_statistics(image=image,\n",
    "                 label_image=label_image,\n",
    "                 histogram=True,\n",
    "                 opacity_gaussians=opacity_gaussians,\n",
    "                 camera=camera)"
   ]
  },
  {
   "cell_type": "markdown",
   "metadata": {},
   "source": [
    "Select label markers from the statistics graph in the lower left to highlight them in the image visualization and provide their intensity histograms."
   ]
  }
 ],
 "metadata": {
  "kernelspec": {
   "display_name": "Python 3",
   "language": "python",
   "name": "python3"
  },
  "language_info": {
   "codemirror_mode": {
    "name": "ipython",
    "version": 3
   },
   "file_extension": ".py",
   "mimetype": "text/x-python",
   "name": "python",
   "nbconvert_exporter": "python",
   "pygments_lexer": "ipython3",
   "version": "3.7.6"
  }
 },
 "nbformat": 4,
 "nbformat_minor": 4
}
