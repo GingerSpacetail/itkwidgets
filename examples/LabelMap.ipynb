{
 "cells": [
  {
   "cell_type": "code",
   "execution_count": 1,
   "metadata": {},
   "outputs": [
    {
     "name": "stdout",
     "output_type": "stream",
     "text": [
      "Requirement already satisfied: itk-io in /home/matt/bin/miniconda3/envs/itkwidgets/lib/python3.7/site-packages (5.1.0.post1)\r\n",
      "Requirement already satisfied: itk-core==5.1.0.post1 in /home/matt/bin/miniconda3/envs/itkwidgets/lib/python3.7/site-packages (from itk-io) (5.1.0.post1)\r\n"
     ]
    }
   ],
   "source": [
    "# Install dependencies for this example\n",
    "# Note: This does not include itkwidgets, itself\n",
    "import sys\n",
    "!{sys.executable} -m pip install itk-io"
   ]
  },
  {
   "cell_type": "code",
   "execution_count": 1,
   "metadata": {},
   "outputs": [],
   "source": [
    "from urllib.request import urlretrieve\n",
    "import os\n",
    "\n",
    "import itk\n",
    "\n",
    "from itkwidgets import view\n",
    "import itkwidgets"
   ]
  },
  {
   "cell_type": "code",
   "execution_count": 2,
   "metadata": {},
   "outputs": [],
   "source": [
    "# Download data\n",
    "image_file_name = 'cells.nrrd'\n",
    "if not os.path.exists(image_file_name):\n",
    "    url = 'https://data.kitware.com/api/v1/file/5ecc803b9014a6d84e8ac8e2/download'\n",
    "    urlretrieve(url, image_file_name)\n",
    "label_map_file_name = 'cell_labels.nrrd'\n",
    "if not os.path.exists(label_map_file_name):\n",
    "    url = 'https://data.kitware.com/api/v1/file/5ecc803c9014a6d84e8ac8ea/download'\n",
    "    urlretrieve(url, label_map_file_name)"
   ]
  },
  {
   "cell_type": "code",
   "execution_count": 3,
   "metadata": {},
   "outputs": [],
   "source": [
    "image = itk.imread(image_file_name)\n",
    "label_map = itk.imread(label_map_file_name)"
   ]
  },
  {
   "cell_type": "code",
   "execution_count": 21,
   "metadata": {
    "scrolled": true
   },
   "outputs": [
    {
     "data": {
      "application/vnd.jupyter.widget-view+json": {
       "model_id": "37dcf1f9c89b4f9c8e7ab039d3f38dde",
       "version_major": 2,
       "version_minor": 0
      },
      "text/plain": [
       "Viewer(cmap='Grayscale', geometries=[], gradient_opacity=0.5, interpolation=False, label_map_names=[(0, 'Backg…"
      ]
     },
     "metadata": {},
     "output_type": "display_data"
    }
   ],
   "source": [
    "names = [(0, 'Background'), (1, 'First cell'), (2, 'Second cell')]\n",
    "viewer = view(image,\n",
    "              label_map=label_map,\n",
    "              label_map_names=names,\n",
    "              rotate=True,\n",
    "              gradient_opacity=0.5,\n",
    "              slicing_planes=True)\n",
    "viewer"
   ]
  },
  {
   "cell_type": "code",
   "execution_count": 5,
   "metadata": {},
   "outputs": [],
   "source": [
    "names = [(0, 'Background'), (1, 'First cell'), (2, 'Second cell')]\n",
    "viewer.label_map_names = names"
   ]
  },
  {
   "cell_type": "code",
   "execution_count": null,
   "metadata": {},
   "outputs": [],
   "source": []
  }
 ],
 "metadata": {
  "kernelspec": {
   "display_name": "Python 3",
   "language": "python",
   "name": "python3"
  },
  "language_info": {
   "codemirror_mode": {
    "name": "ipython",
    "version": 3
   },
   "file_extension": ".py",
   "mimetype": "text/x-python",
   "name": "python",
   "nbconvert_exporter": "python",
   "pygments_lexer": "ipython3",
   "version": "3.7.6"
  }
 },
 "nbformat": 4,
 "nbformat_minor": 4
}
