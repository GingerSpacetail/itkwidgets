{
 "cells": [
  {
   "cell_type": "markdown",
   "id": "d8005f0f-b1c4-47d0-8cff-0ae89c13577f",
   "metadata": {},
   "source": [
    "## Test Setters and Getters"
   ]
  },
  {
   "cell_type": "code",
   "execution_count": null,
   "id": "fe98672b-e45e-4335-8774-b640f03b42fc",
   "metadata": {},
   "outputs": [],
   "source": [
    "import sys\n",
    "\n",
    "!{sys.executable} -m pip install -q imageio \"itkwidgets[all]>=1.0a16\""
   ]
  },
  {
   "cell_type": "code",
   "execution_count": null,
   "id": "ec4b0fcb-f530-41ac-bf8a-c416abe81f80",
   "metadata": {},
   "outputs": [],
   "source": [
    "!pip list | grep itkwidgets"
   ]
  },
  {
   "cell_type": "code",
   "execution_count": null,
   "id": "0b473680-9fd6-4fe3-bba6-9ec1f7629f95",
   "metadata": {},
   "outputs": [],
   "source": [
    "from itkwidgets import view\n",
    "\n",
    "try:\n",
    "    import imageio.v2 as imageio\n",
    "except ImportError:\n",
    "    # Colab\n",
    "    import imageio"
   ]
  },
  {
   "cell_type": "code",
   "execution_count": null,
   "id": "7034b25e-0819-44de-921e-01e3d1f9c8d6",
   "metadata": {},
   "outputs": [],
   "source": [
    "viewer = view()"
   ]
  },
  {
   "cell_type": "code",
   "execution_count": null,
   "id": "0e461bcb-d716-445a-b94e-83e2280bdd1e",
   "metadata": {},
   "outputs": [],
   "source": [
    "stent = imageio.imread('imageio:stent.npz')"
   ]
  },
  {
   "cell_type": "code",
   "execution_count": null,
   "id": "e22dc371-0fd4-4e43-822d-17bc986346df",
   "metadata": {},
   "outputs": [],
   "source": [
    "viewer.set_image(stent)\n",
    "# viewer.get_image()                    # TODO: This function not yet available\n",
    "viewer.set_background_color([0, 0, 0])\n",
    "bgcolor = viewer.get_background_color()"
   ]
  },
  {
   "cell_type": "code",
   "execution_count": null,
   "id": "489acf98-23c5-4fe8-943f-6ddda2a15b02",
   "metadata": {},
   "outputs": [],
   "source": [
    "print(bgcolor)"
   ]
  },
  {
   "cell_type": "code",
   "execution_count": null,
   "id": "f222da3b-905a-41ec-a2fa-98462697f2d6",
   "metadata": {},
   "outputs": [],
   "source": [
    "viewer.set_annotations_enabled(False)\n",
    "annotations = viewer.get_annotations_enabled()\n",
    "viewer.set_axes_enabled(True)\n",
    "axes = viewer.get_axes_enabled()"
   ]
  },
  {
   "cell_type": "code",
   "execution_count": null,
   "id": "40a146ac-ebbe-4aeb-ab5d-ec678af2ef8c",
   "metadata": {},
   "outputs": [],
   "source": [
    "print(annotations, axes)"
   ]
  },
  {
   "cell_type": "code",
   "execution_count": null,
   "id": "f669acad-490e-4249-a380-ddd4dbc08ba5",
   "metadata": {},
   "outputs": [],
   "source": [
    "viewer.set_image_blend_mode('Maximum')\n",
    "blend = viewer.get_image_blend_mode()\n",
    "viewer.set_image_blend_mode('Composite')\n",
    "viewer.set_image_color_map('Inferno (matplotlib)')\n",
    "cmap = viewer.get_image_color_map()"
   ]
  },
  {
   "cell_type": "code",
   "execution_count": null,
   "id": "0326096b-6f24-4793-b3a5-655c746c1a36",
   "metadata": {},
   "outputs": [],
   "source": [
    "print(blend, cmap)"
   ]
  },
  {
   "cell_type": "code",
   "execution_count": null,
   "id": "5992da8e-012a-41ab-95a8-eb1dc1d2219c",
   "metadata": {},
   "outputs": [],
   "source": [
    "viewer.set_image_color_range([100, 1000])\n",
    "color_range = viewer.get_image_color_range()\n",
    "color_range_bounds = viewer.get_image_color_range_bounds()"
   ]
  },
  {
   "cell_type": "code",
   "execution_count": null,
   "id": "dae864ed-50d1-4a88-a930-c05fbc43896a",
   "metadata": {},
   "outputs": [],
   "source": [
    "print(color_range, color_range_bounds)"
   ]
  },
  {
   "cell_type": "code",
   "execution_count": null,
   "id": "1167bc55-8f15-43d5-9ab8-c2b43cfacc4d",
   "metadata": {},
   "outputs": [],
   "source": [
    "# FIXME: How to handle this case?\n",
    "\n",
    "# start, end = color_range_bounds\n",
    "# viewer.set_image_color_range_bounds([start + 100, end - 100])\n",
    "# new_color_range_bounds = viewer.get_image_color_range_bounds()"
   ]
  },
  {
   "cell_type": "code",
   "execution_count": null,
   "id": "25d5cf6f-79c0-43bd-8f9c-aeb7e6092763",
   "metadata": {},
   "outputs": [],
   "source": [
    "# print(color_range, color_range_bounds, new_color_range_bounds)"
   ]
  },
  {
   "cell_type": "code",
   "execution_count": null,
   "id": "371c4281-e13d-4b64-8858-724c07af5c21",
   "metadata": {},
   "outputs": [],
   "source": [
    "# THIS CELL *SHOULD* RAISE AN EXCEPTION\n",
    "\n",
    "viewer.set_image_component_visibility(False)\n",
    "vis = viewer.get_image_component_visibility() # This getter needs a component value passed in\n",
    "viewer.set_image_gradient_opacity(0.5)\n",
    "opacity = viewer.get_image_gradient_opacity()"
   ]
  },
  {
   "cell_type": "code",
   "execution_count": null,
   "id": "db939e10-724e-4725-bfa1-4f1e27bd06e7",
   "metadata": {},
   "outputs": [],
   "source": [
    "# THIS CELL *SHOULD NOT* RAISE AN EXCEPTION\n",
    "\n",
    "viewer.set_image_component_visibility(False)\n",
    "vis = viewer.get_image_component_visibility(0) # Has the expected parameter now\n",
    "viewer.set_image_gradient_opacity(0.5)\n",
    "opacity = viewer.get_image_gradient_opacity()"
   ]
  },
  {
   "cell_type": "code",
   "execution_count": null,
   "id": "0fb27984-2947-4955-89ff-bbe41432c5d9",
   "metadata": {},
   "outputs": [],
   "source": [
    "print(vis, opacity)"
   ]
  },
  {
   "cell_type": "code",
   "execution_count": null,
   "id": "86c0d8f1-019f-48f6-8990-9ff0f6130e35",
   "metadata": {},
   "outputs": [],
   "source": [
    "viewer.set_image_gradient_opacity_scale(0.3)\n",
    "grad_op_scale = viewer.get_image_gradient_opacity_scale()\n",
    "viewer.set_image_interpolation_enabled(True)\n",
    "interp = viewer.get_image_interpolation_enabled()"
   ]
  },
  {
   "cell_type": "code",
   "execution_count": null,
   "id": "4bb6898e-293b-4958-916d-8ac642256348",
   "metadata": {},
   "outputs": [],
   "source": [
    "print(grad_op_scale, interp)"
   ]
  },
  {
   "cell_type": "code",
   "execution_count": null,
   "id": "27f35c0c-b5d5-4e4a-ac87-c0e4aee24234",
   "metadata": {},
   "outputs": [],
   "source": [
    "gauss = viewer.get_image_piecewise_function_gaussians()\n",
    "viewer.set_image_shadow_enabled(False)\n",
    "shadow = viewer.get_image_shadow_enabled()"
   ]
  },
  {
   "cell_type": "code",
   "execution_count": null,
   "id": "90886287-1458-496b-8bc2-1e7589dffc55",
   "metadata": {},
   "outputs": [],
   "source": [
    "print(gauss, shadow)"
   ]
  },
  {
   "cell_type": "code",
   "execution_count": null,
   "id": "8096f9e4-5589-4089-8a37-8dbac4c7509b",
   "metadata": {},
   "outputs": [],
   "source": [
    "viewer.set_image_volume_sample_distance(0.5)\n",
    "sample_dist = viewer.get_image_volume_sample_distance()\n",
    "viewer.set_image_volume_scattering_blend(0.5)\n",
    "scatter = viewer.get_image_volume_scattering_blend()"
   ]
  },
  {
   "cell_type": "code",
   "execution_count": null,
   "id": "84396cd6-f292-43be-b09d-d55cecef6d8a",
   "metadata": {},
   "outputs": [],
   "source": [
    "print(sample_dist, scatter)"
   ]
  },
  {
   "cell_type": "code",
   "execution_count": null,
   "id": "287a3c46-b0aa-4ccd-8e6a-a91a9a465bc1",
   "metadata": {},
   "outputs": [],
   "source": [
    "viewer.set_layer_visibility(False)\n",
    "layer_vis = viewer.get_layer_visibility('Image')"
   ]
  },
  {
   "cell_type": "code",
   "execution_count": null,
   "id": "f88d8ca5-01a6-4d63-9d22-70dc778b6507",
   "metadata": {},
   "outputs": [],
   "source": [
    "print(layer_vis)"
   ]
  },
  {
   "cell_type": "code",
   "execution_count": null,
   "id": "f904feb6-814f-431f-92a2-25a7bd838a00",
   "metadata": {},
   "outputs": [],
   "source": [
    "viewer.set_rotate(True)\n",
    "rotate = viewer.get_rotate()\n",
    "container = viewer.get_rendering_view_container_style()"
   ]
  },
  {
   "cell_type": "code",
   "execution_count": null,
   "id": "8e2cc630-978c-4cdc-9e27-379b10b4fb8b",
   "metadata": {},
   "outputs": [],
   "source": [
    "print(container, rotate)"
   ]
  },
  {
   "cell_type": "code",
   "execution_count": null,
   "id": "cf5fd544-fac0-4f8d-ab22-7721abd5ae1d",
   "metadata": {},
   "outputs": [],
   "source": [
    "container['width'] = '75%'\n",
    "viewer.set_rendering_view_container_style(container)"
   ]
  },
  {
   "cell_type": "code",
   "execution_count": null,
   "id": "bd49c232-ae23-4f56-80a2-1b26b307c458",
   "metadata": {},
   "outputs": [],
   "source": [
    "print(container)"
   ]
  },
  {
   "cell_type": "code",
   "execution_count": null,
   "id": "0573093a-04a0-4199-b061-ecad857d0cee",
   "metadata": {},
   "outputs": [],
   "source": [
    "collapsed = viewer.get_ui_collapsed()\n",
    "viewer.set_ui_collapsed(not collapsed)\n",
    "viewer.set_units('mm')\n",
    "units = viewer.get_units()"
   ]
  },
  {
   "cell_type": "code",
   "execution_count": null,
   "id": "31731d41-a581-4661-86d1-af9cf49a6282",
   "metadata": {},
   "outputs": [],
   "source": [
    "print(collapsed, units)"
   ]
  },
  {
   "cell_type": "code",
   "execution_count": null,
   "id": "aca37e1b-d920-48d4-90ca-fda100b97175",
   "metadata": {},
   "outputs": [],
   "source": [
    "view_mode = viewer.get_view_mode()\n",
    "viewer.set_view_mode('YPlane')\n",
    "layers = viewer.get_layer_names()\n",
    "viewer.select_layer('Image')"
   ]
  },
  {
   "cell_type": "code",
   "execution_count": null,
   "id": "cf94e432-3583-4f84-97ca-4815d5c40336",
   "metadata": {},
   "outputs": [],
   "source": [
    "print(view_mode, layers)"
   ]
  },
  {
   "cell_type": "code",
   "execution_count": null,
   "id": "88802dec-461f-4a91-a19d-db8f3ea8a626",
   "metadata": {},
   "outputs": [],
   "source": [
    "viewer.set_view_mode('Volume')\n",
    "viewer.set_x_slice(59.5)\n",
    "viewer.set_y_slice(49.5)\n",
    "viewer.set_z_slice(153.5)\n",
    "x_slice = viewer.get_x_slice()\n",
    "y_slice = viewer.get_y_slice()\n",
    "z_slice = viewer.get_z_slice()"
   ]
  },
  {
   "cell_type": "code",
   "execution_count": null,
   "id": "bbcda0e3-251c-41f0-842a-2f8b95cabbfb",
   "metadata": {},
   "outputs": [],
   "source": [
    "print(x_slice, y_slice, z_slice)"
   ]
  }
 ],
 "metadata": {
  "kernelspec": {
   "display_name": "Python 3 (ipykernel)",
   "language": "python",
   "name": "python3"
  },
  "language_info": {
   "codemirror_mode": {
    "name": "ipython",
    "version": 3
   },
   "file_extension": ".py",
   "mimetype": "text/x-python",
   "name": "python",
   "nbconvert_exporter": "python",
   "pygments_lexer": "ipython3",
   "version": "3.8.10"
  }
 },
 "nbformat": 4,
 "nbformat_minor": 5
}
